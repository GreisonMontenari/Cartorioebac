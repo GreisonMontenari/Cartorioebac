{
  "nbformat": 4,
  "nbformat_minor": 0,
  "metadata": {
    "colab": {
      "provenance": [],
      "toc_visible": true,
      "include_colab_link": true
    },
    "kernelspec": {
      "name": "python3",
      "display_name": "Python 3"
    }
  },
  "cells": [
    {
      "cell_type": "markdown",
      "metadata": {
        "id": "view-in-github",
        "colab_type": "text"
      },
      "source": [
        "<a href=\"https://colab.research.google.com/github/GreisonMontenari/Cartorioebac/blob/main/Profissao_Analista_de_dados_M28_Exercicio.ipynb\" target=\"_parent\"><img src=\"https://colab.research.google.com/assets/colab-badge.svg\" alt=\"Open In Colab\"/></a>"
      ]
    },
    {
      "cell_type": "markdown",
      "metadata": {
        "id": "KJqp9AANOCtf"
      },
      "source": [
        "<img src=\"https://raw.githubusercontent.com/andre-marcos-perez/ebac-course-utils/main/media/logo/newebac_logo_black_half.png\" alt=\"ebac-logo\">\n",
        "\n",
        "---\n",
        "\n",
        "# **Módulo** | Análise de Dados: COVID-19 Dashboard\n",
        "Caderno de **Exercícios**<br>\n",
        "Professor [André Perez](https://www.linkedin.com/in/andremarcosperez/)\n",
        "\n",
        "---"
      ]
    },
    {
      "cell_type": "markdown",
      "metadata": {
        "id": "d9jDtUbDOE1-"
      },
      "source": [
        "# **Tópicos**\n",
        "\n",
        "<ol type=\"1\">\n",
        "  <li>Introdução;</li>\n",
        "  <li>Análise Exploratória de Dados;</li>\n",
        "  <li>Visualização Interativa de Dados;</li>\n",
        "  <li>Storytelling.</li>\n",
        "</ol>\n"
      ]
    },
    {
      "cell_type": "markdown",
      "metadata": {
        "id": "SmoHgt-lwkpD"
      },
      "source": [
        "---"
      ]
    },
    {
      "cell_type": "markdown",
      "metadata": {
        "id": "GABI6OW8OfQ2"
      },
      "source": [
        "# **Exercícios**"
      ]
    },
    {
      "cell_type": "markdown",
      "metadata": {
        "id": "muD1vxozykSC"
      },
      "source": [
        "Este *notebook* deve servir como um guia para **você continuar** a construção da sua própria análise exploratória de dados interativa. Fique a vontate para copiar os códigos da aula mas busque explorar os dados ao máximo. Por fim, publique seu *notebook* no [Kaggle](https://www.kaggle.com/) e seu *dashboard* [Google Data Studio](https://datastudio.google.com/)."
      ]
    },
    {
      "cell_type": "markdown",
      "metadata": {
        "id": "zMN1Q3jdwoJm"
      },
      "source": [
        "---"
      ]
    },
    {
      "cell_type": "markdown",
      "metadata": {
        "id": "QRcqbpLpFK5o"
      },
      "source": [
        "# **COVID Dashboard**"
      ]
    },
    {
      "cell_type": "markdown",
      "metadata": {
        "id": "6-CvdKwqFPiW"
      },
      "source": [
        "## 1\\. Contexto"
      ]
    },
    {
      "cell_type": "markdown",
      "metadata": {
        "id": "XRURE1uUFXGw"
      },
      "source": [
        "Escreva uma breve descrição do problema."
      ]
    },
    {
      "cell_type": "markdown",
      "metadata": {
        "id": "QxukLHaqFnkU"
      },
      "source": [
        "## 2\\. Pacotes e bibliotecas"
      ]
    },
    {
      "cell_type": "code",
      "metadata": {
        "id": "VXUEW0VrF7XW",
        "colab": {
          "base_uri": "https://localhost:8080/"
        },
        "outputId": "20c4214c-4dd7-43b8-ae2f-c1132efc5a6a"
      },
      "source": [
        "# 1º Pacotes nativos do Python\n",
        "import json\n",
        "import os\n",
        "import sys\n",
        "import datetime\n",
        "\n",
        "# 2º Pacotes de terceiros\n",
        "import pandas as pd\n",
        "import numpy as np\n",
        "import seaborn as sns\n",
        "import matplotlib.pyplot as plt\n",
        "from sklearn.model_selection import train_test_split\n",
        "\n",
        "# 3º Pacotes desenvolvidos por você (caso existam)\n",
        "# from my_module import my_function  # Exemplo de pacote próprio\n",
        "\n",
        "\n",
        "\n",
        "...\n"
      ],
      "execution_count": null,
      "outputs": [
        {
          "output_type": "execute_result",
          "data": {
            "text/plain": [
              "Ellipsis"
            ]
          },
          "metadata": {},
          "execution_count": 1
        }
      ]
    },
    {
      "cell_type": "markdown",
      "metadata": {
        "id": "irQxHW1zGkdZ"
      },
      "source": [
        "## 3\\. Extração"
      ]
    },
    {
      "cell_type": "code",
      "source": [
        "pip install dash plotly pandas"
      ],
      "metadata": {
        "colab": {
          "base_uri": "https://localhost:8080/"
        },
        "id": "I5ry7VAvKpfe",
        "outputId": "8f1d9de4-6104-40e3-e5f7-dc898d5072e7"
      },
      "execution_count": 15,
      "outputs": [
        {
          "output_type": "stream",
          "name": "stdout",
          "text": [
            "Collecting dash\n",
            "  Downloading dash-2.18.2-py3-none-any.whl.metadata (10 kB)\n",
            "Requirement already satisfied: plotly in /usr/local/lib/python3.11/dist-packages (5.24.1)\n",
            "Requirement already satisfied: pandas in /usr/local/lib/python3.11/dist-packages (2.2.2)\n",
            "Collecting Flask<3.1,>=1.0.4 (from dash)\n",
            "  Downloading flask-3.0.3-py3-none-any.whl.metadata (3.2 kB)\n",
            "Collecting Werkzeug<3.1 (from dash)\n",
            "  Downloading werkzeug-3.0.6-py3-none-any.whl.metadata (3.7 kB)\n",
            "Collecting dash-html-components==2.0.0 (from dash)\n",
            "  Downloading dash_html_components-2.0.0-py3-none-any.whl.metadata (3.8 kB)\n",
            "Collecting dash-core-components==2.0.0 (from dash)\n",
            "  Downloading dash_core_components-2.0.0-py3-none-any.whl.metadata (2.9 kB)\n",
            "Collecting dash-table==5.0.0 (from dash)\n",
            "  Downloading dash_table-5.0.0-py3-none-any.whl.metadata (2.4 kB)\n",
            "Requirement already satisfied: importlib-metadata in /usr/local/lib/python3.11/dist-packages (from dash) (8.6.1)\n",
            "Requirement already satisfied: typing-extensions>=4.1.1 in /usr/local/lib/python3.11/dist-packages (from dash) (4.12.2)\n",
            "Requirement already satisfied: requests in /usr/local/lib/python3.11/dist-packages (from dash) (2.32.3)\n",
            "Collecting retrying (from dash)\n",
            "  Downloading retrying-1.3.4-py3-none-any.whl.metadata (6.9 kB)\n",
            "Requirement already satisfied: nest-asyncio in /usr/local/lib/python3.11/dist-packages (from dash) (1.6.0)\n",
            "Requirement already satisfied: setuptools in /usr/local/lib/python3.11/dist-packages (from dash) (75.1.0)\n",
            "Requirement already satisfied: tenacity>=6.2.0 in /usr/local/lib/python3.11/dist-packages (from plotly) (9.0.0)\n",
            "Requirement already satisfied: packaging in /usr/local/lib/python3.11/dist-packages (from plotly) (24.2)\n",
            "Requirement already satisfied: numpy>=1.23.2 in /usr/local/lib/python3.11/dist-packages (from pandas) (1.26.4)\n",
            "Requirement already satisfied: python-dateutil>=2.8.2 in /usr/local/lib/python3.11/dist-packages (from pandas) (2.8.2)\n",
            "Requirement already satisfied: pytz>=2020.1 in /usr/local/lib/python3.11/dist-packages (from pandas) (2025.1)\n",
            "Requirement already satisfied: tzdata>=2022.7 in /usr/local/lib/python3.11/dist-packages (from pandas) (2025.1)\n",
            "Requirement already satisfied: Jinja2>=3.1.2 in /usr/local/lib/python3.11/dist-packages (from Flask<3.1,>=1.0.4->dash) (3.1.5)\n",
            "Requirement already satisfied: itsdangerous>=2.1.2 in /usr/local/lib/python3.11/dist-packages (from Flask<3.1,>=1.0.4->dash) (2.2.0)\n",
            "Requirement already satisfied: click>=8.1.3 in /usr/local/lib/python3.11/dist-packages (from Flask<3.1,>=1.0.4->dash) (8.1.8)\n",
            "Requirement already satisfied: blinker>=1.6.2 in /usr/local/lib/python3.11/dist-packages (from Flask<3.1,>=1.0.4->dash) (1.9.0)\n",
            "Requirement already satisfied: six>=1.5 in /usr/local/lib/python3.11/dist-packages (from python-dateutil>=2.8.2->pandas) (1.17.0)\n",
            "Requirement already satisfied: MarkupSafe>=2.1.1 in /usr/local/lib/python3.11/dist-packages (from Werkzeug<3.1->dash) (3.0.2)\n",
            "Requirement already satisfied: zipp>=3.20 in /usr/local/lib/python3.11/dist-packages (from importlib-metadata->dash) (3.21.0)\n",
            "Requirement already satisfied: charset-normalizer<4,>=2 in /usr/local/lib/python3.11/dist-packages (from requests->dash) (3.4.1)\n",
            "Requirement already satisfied: idna<4,>=2.5 in /usr/local/lib/python3.11/dist-packages (from requests->dash) (3.10)\n",
            "Requirement already satisfied: urllib3<3,>=1.21.1 in /usr/local/lib/python3.11/dist-packages (from requests->dash) (2.3.0)\n",
            "Requirement already satisfied: certifi>=2017.4.17 in /usr/local/lib/python3.11/dist-packages (from requests->dash) (2025.1.31)\n",
            "Downloading dash-2.18.2-py3-none-any.whl (7.8 MB)\n",
            "\u001b[2K   \u001b[90m━━━━━━━━━━━━━━━━━━━━━━━━━━━━━━━━━━━━━━━━\u001b[0m \u001b[32m7.8/7.8 MB\u001b[0m \u001b[31m51.3 MB/s\u001b[0m eta \u001b[36m0:00:00\u001b[0m\n",
            "\u001b[?25hDownloading dash_core_components-2.0.0-py3-none-any.whl (3.8 kB)\n",
            "Downloading dash_html_components-2.0.0-py3-none-any.whl (4.1 kB)\n",
            "Downloading dash_table-5.0.0-py3-none-any.whl (3.9 kB)\n",
            "Downloading flask-3.0.3-py3-none-any.whl (101 kB)\n",
            "\u001b[2K   \u001b[90m━━━━━━━━━━━━━━━━━━━━━━━━━━━━━━━━━━━━━━━━\u001b[0m \u001b[32m101.7/101.7 kB\u001b[0m \u001b[31m7.2 MB/s\u001b[0m eta \u001b[36m0:00:00\u001b[0m\n",
            "\u001b[?25hDownloading werkzeug-3.0.6-py3-none-any.whl (227 kB)\n",
            "\u001b[2K   \u001b[90m━━━━━━━━━━━━━━━━━━━━━━━━━━━━━━━━━━━━━━━━\u001b[0m \u001b[32m228.0/228.0 kB\u001b[0m \u001b[31m15.2 MB/s\u001b[0m eta \u001b[36m0:00:00\u001b[0m\n",
            "\u001b[?25hDownloading retrying-1.3.4-py3-none-any.whl (11 kB)\n",
            "Installing collected packages: dash-table, dash-html-components, dash-core-components, Werkzeug, retrying, Flask, dash\n",
            "  Attempting uninstall: Werkzeug\n",
            "    Found existing installation: Werkzeug 3.1.3\n",
            "    Uninstalling Werkzeug-3.1.3:\n",
            "      Successfully uninstalled Werkzeug-3.1.3\n",
            "  Attempting uninstall: Flask\n",
            "    Found existing installation: Flask 3.1.0\n",
            "    Uninstalling Flask-3.1.0:\n",
            "      Successfully uninstalled Flask-3.1.0\n",
            "Successfully installed Flask-3.0.3 Werkzeug-3.0.6 dash-2.18.2 dash-core-components-2.0.0 dash-html-components-2.0.0 dash-table-5.0.0 retrying-1.3.4\n"
          ]
        }
      ]
    },
    {
      "cell_type": "code",
      "source": [
        "!pip instal dash plotly pandas\n"
      ],
      "metadata": {
        "colab": {
          "base_uri": "https://localhost:8080/"
        },
        "id": "30HbeTt2Ky92",
        "outputId": "70df0fa2-489e-4dfe-b694-29752fbc553e"
      },
      "execution_count": 16,
      "outputs": [
        {
          "output_type": "stream",
          "name": "stdout",
          "text": [
            "ERROR: unknown command \"instal\" - maybe you meant \"install\"\n"
          ]
        }
      ]
    },
    {
      "cell_type": "code",
      "source": [
        "import pandas as pd\n",
        "\n",
        "# Criando um DataFrame com dados fictícios\n",
        "data = {\n",
        "    \"date\": [\"2024-01-01\", \"2024-01-02\", \"2024-01-03\", \"2024-01-04\"],\n",
        "    \"confirmed\": [100, 150, 200, 250],\n",
        "    \"active\": [50, 80, 100, 120],\n",
        "    \"recovered\": [40, 50, 80, 100],\n",
        "    \"deaths\": [10, 20, 20, 30]\n",
        "}\n",
        "\n",
        "df = pd.DataFrame(data)\n",
        "df.to_csv(\"covid_data.csv\", index=False)\n",
        "\n",
        "print(\"Arquivo covid_data.csv criado com sucesso!\")\n"
      ],
      "metadata": {
        "colab": {
          "base_uri": "https://localhost:8080/"
        },
        "id": "nIOhG1wSLSon",
        "outputId": "eace6fbc-4795-4738-84f1-81505ccdc7c3"
      },
      "execution_count": 20,
      "outputs": [
        {
          "output_type": "stream",
          "name": "stdout",
          "text": [
            "Arquivo covid_data.csv criado com sucesso!\n"
          ]
        }
      ]
    },
    {
      "cell_type": "code",
      "metadata": {
        "id": "lxLj8e0GHAnr",
        "colab": {
          "base_uri": "https://localhost:8080/",
          "height": 689
        },
        "outputId": "afcdbe7a-7d9c-451a-975f-d5ed7a5c9160"
      },
      "source": [
        "# Importando as bibliotecas necessárias\n",
        "import dash\n",
        "from dash import dcc, html\n",
        "from dash.dependencies import Input, Output\n",
        "import plotly.express as px\n",
        "import pandas as pd\n",
        "import os\n",
        "\n",
        "# Iniciando o aplicativo Dash\n",
        "app = dash.Dash(__name__)\n",
        "\n",
        "# Função para carregar dados locais sobre COVID-19\n",
        "def load_covid_data():\n",
        "    file_path = 'covid_data.csv'\n",
        "\n",
        "    if not os.path.exists(file_path):\n",
        "        raise FileNotFoundError(f\"O arquivo {file_path} não foi encontrado!\")\n",
        "\n",
        "    df = pd.read_csv(file_path)\n",
        "    df['date'] = pd.to_datetime(df['date'])\n",
        "    return df\n",
        "\n",
        "# Tentativa de carregar os dados com tratamento de erro\n",
        "try:\n",
        "    covid_data = load_covid_data()\n",
        "except FileNotFoundError as e:\n",
        "    print(e)\n",
        "    covid_data = pd.DataFrame(columns=['date', 'confirmed', 'active', 'recovered', 'deaths'])\n",
        "\n",
        "# Layout do dashboard\n",
        "app.layout = html.Div([\n",
        "    html.H1(\"COVID-19 Dashboard\"),\n",
        "\n",
        "    dcc.Dropdown(\n",
        "        id='metric-dropdown',\n",
        "        options=[\n",
        "            {'label': 'Casos Confirmados', 'value': 'confirmed'},\n",
        "            {'label': 'Hospitalizações', 'value': 'active'},\n",
        "            {'label': 'Recuperados', 'value': 'recovered'},\n",
        "            {'label': 'Mortes', 'value': 'deaths'}\n",
        "        ],\n",
        "        value='confirmed',  # Valor padrão\n",
        "        clearable=False\n",
        "    ),\n",
        "\n",
        "    dcc.Graph(id='covid-graph'),\n",
        "\n",
        "    dcc.Interval(\n",
        "        id='interval-component',\n",
        "        interval=1*60*1000,  # Atualiza a cada 1 minuto (60000ms)\n",
        "        n_intervals=0\n",
        "    )\n",
        "])\n",
        "\n",
        "# Callback para atualizar o gráfico com base na métrica escolhida e nos dados atualizados\n",
        "@app.callback(\n",
        "    Output('covid-graph', 'figure'),\n",
        "    [Input('metric-dropdown', 'value'),\n",
        "     Input('interval-component', 'n_intervals')]\n",
        ")\n",
        "def update_graph(selected_metric, n_intervals):\n",
        "    # Carregar dados atualizados\n",
        "    try:\n",
        "        covid_data = load_covid_data()\n",
        "    except FileNotFoundError:\n",
        "        return px.line(title=\"Erro: Arquivo de dados não encontrado\")\n",
        "\n",
        "    # Criando o gráfico com Plotly\n",
        "    fig = px.line(\n",
        "        covid_data,\n",
        "        x='date',\n",
        "        y=selected_metric,\n",
        "        title=f\"Evolução de {selected_metric.capitalize()} ao longo do tempo\"\n",
        "    )\n",
        "\n",
        "    fig.update_layout(xaxis_title='Data', yaxis_title=selected_metric.capitalize())\n",
        "\n",
        "    return fig\n",
        "\n",
        "# Rodando o servidor do aplicativo\n",
        "if __name__ == '__main__':\n",
        "    app.run_server(debug=True)\n"
      ],
      "execution_count": 19,
      "outputs": [
        {
          "output_type": "stream",
          "name": "stdout",
          "text": [
            "O arquivo covid_data.csv não foi encontrado!\n"
          ]
        },
        {
          "output_type": "display_data",
          "data": {
            "text/plain": [
              "<IPython.core.display.Javascript object>"
            ],
            "application/javascript": [
              "(async (port, path, width, height, cache, element) => {\n",
              "    if (!google.colab.kernel.accessAllowed && !cache) {\n",
              "      return;\n",
              "    }\n",
              "    element.appendChild(document.createTextNode(''));\n",
              "    const url = await google.colab.kernel.proxyPort(port, {cache});\n",
              "    const iframe = document.createElement('iframe');\n",
              "    iframe.src = new URL(path, url).toString();\n",
              "    iframe.height = height;\n",
              "    iframe.width = width;\n",
              "    iframe.style.border = 0;\n",
              "    iframe.allow = [\n",
              "        'accelerometer',\n",
              "        'autoplay',\n",
              "        'camera',\n",
              "        'clipboard-read',\n",
              "        'clipboard-write',\n",
              "        'gyroscope',\n",
              "        'magnetometer',\n",
              "        'microphone',\n",
              "        'serial',\n",
              "        'usb',\n",
              "        'xr-spatial-tracking',\n",
              "    ].join('; ');\n",
              "    element.appendChild(iframe);\n",
              "  })(8050, \"/\", \"100%\", 650, false, window.element)"
            ]
          },
          "metadata": {}
        }
      ]
    },
    {
      "cell_type": "markdown",
      "metadata": {
        "id": "98hexQTyJS9I"
      },
      "source": [
        "## 4\\. Transformação"
      ]
    },
    {
      "cell_type": "code",
      "source": [
        "import os\n",
        "\n",
        "file_path = \"covid_data.csv\"\n",
        "\n",
        "if not os.path.exists(file_path):\n",
        "    raise FileNotFoundError(f\"Erro: O arquivo {file_path} não foi encontrado! Verifique o caminho e tente novamente.\")\n"
      ],
      "metadata": {
        "id": "x0tLNG12LttM"
      },
      "execution_count": 21,
      "outputs": []
    },
    {
      "cell_type": "code",
      "metadata": {
        "id": "DXU4Ee0QJS9Q",
        "colab": {
          "base_uri": "https://localhost:8080/"
        },
        "outputId": "8111e2f1-f6c2-42c0-f80e-66d6dbb0f406"
      },
      "source": [
        "import pandas as pd\n",
        "import numpy as np\n",
        "\n",
        "# Função para ler e manipular os dados\n",
        "def manipulate_data(file_path):\n",
        "    # Leitura dos dados\n",
        "    df = pd.read_csv(file_path)\n",
        "\n",
        "    # Controle de Qualidade\n",
        "    # Verificar e tratar dados faltantes\n",
        "    df = df.fillna(0)  # Preenche valores faltantes com 0\n",
        "    print(\"Dados faltantes tratados:\")\n",
        "    print(df.isnull().sum())  # Verificar se ainda há dados faltantes\n",
        "\n",
        "    # Verificar e corrigir inconsistências\n",
        "    df['confirmed'] = df['confirmed'].astype(int)\n",
        "    df['active'] = df['active'].astype(int)\n",
        "    df['recovered'] = df['recovered'].astype(int)\n",
        "    df['deaths'] = df['deaths'].astype(int)\n",
        "\n",
        "    # Enriquecimento\n",
        "    # Adicionar coluna de taxa de mortalidade\n",
        "    df['mortality_rate'] = df['deaths'] / df['confirmed']\n",
        "\n",
        "    # Adicionar coluna de taxa de recuperação\n",
        "    df['recovery_rate'] = df['recovered'] / df['confirmed']\n",
        "\n",
        "    # Converter a coluna de data para datetime\n",
        "    df['date'] = pd.to_datetime(df['date'])\n",
        "\n",
        "    # Ordenar os dados por data\n",
        "    df = df.sort_values(by='date')\n",
        "\n",
        "    # Mostrar os dados transformados\n",
        "    print(\"Dados manipulados:\")\n",
        "    print(df.head())\n",
        "\n",
        "    return df\n",
        "\n",
        "# Caminho para o arquivo CSV\n",
        "file_path = 'covid_data.csv'\n",
        "\n",
        "# Manipular os dados\n",
        "df_manipulated = manipulate_data(file_path)\n",
        "\n",
        "# Salvar os dados manipulados em um novo arquivo CSV\n",
        "df_manipulated.to_csv('covid_data_manipulated.csv', index=False)\n"
      ],
      "execution_count": 22,
      "outputs": [
        {
          "output_type": "stream",
          "name": "stdout",
          "text": [
            "Dados faltantes tratados:\n",
            "date         0\n",
            "confirmed    0\n",
            "active       0\n",
            "recovered    0\n",
            "deaths       0\n",
            "dtype: int64\n",
            "Dados manipulados:\n",
            "        date  confirmed  active  recovered  deaths  mortality_rate  \\\n",
            "0 2024-01-01        100      50         40      10        0.100000   \n",
            "1 2024-01-02        150      80         50      20        0.133333   \n",
            "2 2024-01-03        200     100         80      20        0.100000   \n",
            "3 2024-01-04        250     120        100      30        0.120000   \n",
            "\n",
            "   recovery_rate  \n",
            "0       0.400000  \n",
            "1       0.333333  \n",
            "2       0.400000  \n",
            "3       0.400000  \n"
          ]
        }
      ]
    },
    {
      "cell_type": "markdown",
      "metadata": {
        "id": "KSgjP--1JS9R"
      },
      "source": [
        "## 5\\. Carregamento"
      ]
    },
    {
      "cell_type": "code",
      "source": [
        "import pandas as pd\n",
        "import os\n",
        "\n",
        "# Caminho do arquivo CSV original e para o arquivo de saída\n",
        "input_file_path = 'covid_data.csv'\n",
        "output_file_path = 'covid_data_manipulated.csv'\n",
        "\n",
        "# Criar um arquivo fictício caso não exista\n",
        "if not os.path.exists(input_file_path):\n",
        "    print(f\"⚠️ O arquivo {input_file_path} não foi encontrado! Criando um arquivo de exemplo...\")\n",
        "\n",
        "    data = {\n",
        "        \"date\": [\"2024-01-01\", \"2024-01-02\", \"2024-01-03\", \"2024-01-04\"],\n",
        "        \"confirmed\": [100, 150, 200, 250],\n",
        "        \"active\": [50, 80, 100, 120],\n",
        "        \"recovered\": [40, 50, 80, 100],\n",
        "        \"deaths\": [10, 20, 20, 30]\n",
        "    }\n",
        "\n",
        "    df = pd.DataFrame(data)\n",
        "    df.to_csv(input_file_path, index=False)\n",
        "    print(\"✅ Arquivo criado com sucesso!\")\n",
        "\n",
        "# Função para ler e manipular os dados\n",
        "def manipulate_data(file_path):\n",
        "    # Leitura dos dados\n",
        "    df = pd.read_csv(file_path)\n",
        "\n",
        "    # Controle de Qualidade\n",
        "    df = df.fillna(0)  # Preenche valores faltantes com 0\n",
        "    print(\"📌 Dados faltantes tratados:\")\n",
        "    print(df.isnull().sum())  # Verificar se ainda há dados faltantes\n",
        "\n",
        "    # Verificar e corrigir inconsistências\n",
        "    df['confirmed'] = df['confirmed'].astype(int)\n",
        "    df['active'] = df['active'].astype(int)\n",
        "    df['recovered'] = df['recovered'].astype(int)\n",
        "    df['deaths'] = df['deaths'].astype(int)\n",
        "\n",
        "    # Enriquecimento\n",
        "    df['mortality_rate'] = df['deaths'] / df['confirmed']\n",
        "    df['recovery_rate'] = df['recovered'] / df['confirmed']\n",
        "\n",
        "    # Converter a coluna de data para datetime\n",
        "    df['date'] = pd.to_datetime(df['date'])\n",
        "\n",
        "    # Ordenar os dados por data\n",
        "    df = df.sort_values(by='date')\n",
        "\n",
        "    return df\n",
        "\n",
        "# Função para salvar os dados manipulados\n",
        "def save_data(df, output_file_path):\n",
        "    df.to_csv(output_file_path, index=False)\n",
        "    print(f\"✅ Dados salvos em: {output_file_path}\")\n",
        "\n",
        "# Manipular os dados\n",
        "df_manipulated = manipulate_data(input_file_path)\n",
        "\n",
        "# Salvar os dados manipulados\n",
        "save_data(df_manipulated, output_file_path)\n"
      ],
      "metadata": {
        "colab": {
          "base_uri": "https://localhost:8080/"
        },
        "id": "BC8re4UcL_G2",
        "outputId": "4dbd6997-6fd1-4519-8867-317a8a102112"
      },
      "execution_count": 23,
      "outputs": [
        {
          "output_type": "stream",
          "name": "stdout",
          "text": [
            "📌 Dados faltantes tratados:\n",
            "date         0\n",
            "confirmed    0\n",
            "active       0\n",
            "recovered    0\n",
            "deaths       0\n",
            "dtype: int64\n",
            "✅ Dados salvos em: covid_data_manipulated.csv\n"
          ]
        }
      ]
    },
    {
      "cell_type": "code",
      "metadata": {
        "id": "Jlj3ACWCJS9R",
        "colab": {
          "base_uri": "https://localhost:8080/"
        },
        "outputId": "80395999-4198-458b-edff-4752ae5c2319"
      },
      "source": [
        "import pandas as pd\n",
        "\n",
        "# Função para ler e manipular os dados\n",
        "def manipulate_data(file_path):\n",
        "    # Leitura dos dados\n",
        "    df = pd.read_csv(file_path)\n",
        "\n",
        "    # Controle de Qualidade\n",
        "    # Verificar e tratar dados faltantes\n",
        "    df = df.fillna(0)  # Preenche valores faltantes com 0\n",
        "    print(\"Dados faltantes tratados:\")\n",
        "    print(df.isnull().sum())  # Verificar se ainda há dados faltantes\n",
        "\n",
        "    # Verificar e corrigir inconsistências\n",
        "    df['confirmed'] = df['confirmed'].astype(int)\n",
        "    df['active'] = df['active'].astype(int)\n",
        "    df['recovered'] = df['recovered'].astype(int)\n",
        "    df['deaths'] = df['deaths'].astype(int)\n",
        "\n",
        "    # Enriquecimento\n",
        "    # Adicionar coluna de taxa de mortalidade\n",
        "    df['mortality_rate'] = df['deaths'] / df['confirmed']\n",
        "\n",
        "    # Adicionar coluna de taxa de recuperação\n",
        "    df['recovery_rate'] = df['recovered'] / df['confirmed']\n",
        "\n",
        "    # Converter a coluna de data para datetime\n",
        "    df['date'] = pd.to_datetime(df['date'])\n",
        "\n",
        "    # Ordenar os dados por data\n",
        "    df = df.sort_values(by='date')\n",
        "\n",
        "    return df\n",
        "\n",
        "# Função para salvar os dados manipulados\n",
        "def save_data(df, output_file_path):\n",
        "    df.to_csv(output_file_path, index=False)\n",
        "    print(f\"Dados salvos em: {output_file_path}\")\n",
        "\n",
        "# Caminho para o arquivo CSV original e para o arquivo de saída\n",
        "input_file_path = 'covid_data.csv'\n",
        "output_file_path = 'covid_data_manipulated.csv'\n",
        "\n",
        "# Manipular os dados\n",
        "df_manipulated = manipulate_data(input_file_path)\n",
        "\n",
        "# Salvar os dados manipulados\n",
        "save_data(df_manipulated, output_file_path)\n"
      ],
      "execution_count": 24,
      "outputs": [
        {
          "output_type": "stream",
          "name": "stdout",
          "text": [
            "Dados faltantes tratados:\n",
            "date         0\n",
            "confirmed    0\n",
            "active       0\n",
            "recovered    0\n",
            "deaths       0\n",
            "dtype: int64\n",
            "Dados salvos em: covid_data_manipulated.csv\n"
          ]
        }
      ]
    }
  ]
}